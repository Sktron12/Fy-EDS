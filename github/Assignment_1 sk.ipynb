{
  "cells": [
    {
      "cell_type": "code",
      "execution_count": null,
      "metadata": {
        "colab": {
          "base_uri": "https://localhost:8080/",
          "height": 235
        },
        "id": "g2xnqw9R1ele",
        "outputId": "da189df9-51bd-4791-d117-b98aaca61c08"
      },
      "outputs": [
        {
          "ename": "FileNotFoundError",
          "evalue": "ignored",
          "output_type": "error",
          "traceback": [
            "\u001b[0;31m---------------------------------------------------------------------------\u001b[0m",
            "\u001b[0;31mFileNotFoundError\u001b[0m                         Traceback (most recent call last)",
            "\u001b[0;32m<ipython-input-1-6db918d07ef7>\u001b[0m in \u001b[0;36m<cell line: 2>\u001b[0;34m()\u001b[0m\n\u001b[1;32m      1\u001b[0m \u001b[0;31m# Find statistical analysis of Employee Records\u001b[0m\u001b[0;34m\u001b[0m\u001b[0;34m\u001b[0m\u001b[0m\n\u001b[0;32m----> 2\u001b[0;31m \u001b[0mf\u001b[0m\u001b[0;34m=\u001b[0m\u001b[0mopen\u001b[0m\u001b[0;34m(\u001b[0m\u001b[0;34m\"/content/sample_data/emp1.csv\"\u001b[0m\u001b[0;34m,\u001b[0m\u001b[0;34m\"r\"\u001b[0m\u001b[0;34m)\u001b[0m\u001b[0;34m\u001b[0m\u001b[0;34m\u001b[0m\u001b[0m\n\u001b[0m\u001b[1;32m      3\u001b[0m \u001b[0mcontents\u001b[0m \u001b[0;34m=\u001b[0m \u001b[0mf\u001b[0m\u001b[0;34m.\u001b[0m\u001b[0mread\u001b[0m\u001b[0;34m(\u001b[0m\u001b[0;34m)\u001b[0m\u001b[0;34m\u001b[0m\u001b[0;34m\u001b[0m\u001b[0m\n\u001b[1;32m      4\u001b[0m \u001b[0mlines\u001b[0m \u001b[0;34m=\u001b[0m \u001b[0mcontents\u001b[0m\u001b[0;34m.\u001b[0m\u001b[0msplit\u001b[0m\u001b[0;34m(\u001b[0m\u001b[0;34m\"\\n\"\u001b[0m\u001b[0;34m)\u001b[0m\u001b[0;34m\u001b[0m\u001b[0;34m\u001b[0m\u001b[0m\n\u001b[1;32m      5\u001b[0m \u001b[0meid\u001b[0m \u001b[0;34m=\u001b[0m \u001b[0;34m[\u001b[0m\u001b[0;34m]\u001b[0m\u001b[0;34m;\u001b[0m \u001b[0mnm\u001b[0m \u001b[0;34m=\u001b[0m \u001b[0;34m[\u001b[0m\u001b[0;34m]\u001b[0m\u001b[0;34m;\u001b[0m \u001b[0mdesgn\u001b[0m \u001b[0;34m=\u001b[0m \u001b[0;34m[\u001b[0m\u001b[0;34m]\u001b[0m\u001b[0;34m;\u001b[0m \u001b[0msal\u001b[0m \u001b[0;34m=\u001b[0m \u001b[0;34m[\u001b[0m\u001b[0;34m]\u001b[0m\u001b[0;34m;\u001b[0m\u001b[0;34m\u001b[0m\u001b[0;34m\u001b[0m\u001b[0m\n",
            "\u001b[0;31mFileNotFoundError\u001b[0m: [Errno 2] No such file or directory: '/content/sample_data/emp1.csv'"
          ]
        }
      ],
      "source": [
        "# Find statistical analysis of Employee Records\n",
        "f=open(\"/content/sample_data/emp1.csv\",\"r\")\n",
        "contents = f.read()\n",
        "lines = contents.split(\"\\n\")\n",
        "eid = []; nm = []; desgn = []; sal = [];\n",
        "for l in lines:\n",
        "  words = l.split(\",\")\n",
        "  print(words)\n",
        "  eid.append(int(words[0]))\n",
        "  nm.append(words[1])\n",
        "  desgn.append(words[2])\n",
        "  sal.append(int(words[3]))\n",
        "\n",
        "print(\"Employee IDs:\",eid)\n",
        "print(\"Employee Names:\",nm)\n",
        "print(\"Employee Designations:\",desgn)\n",
        "print(\"Employee Salary:\",sal)\n",
        "\n",
        "#Max Salary\n",
        "print(\"Maximum Salary:\",max(sal))\n",
        "\n",
        "#Min salary\n",
        "print(\"Minimum Salary:\",min(sal))\n",
        "\n",
        "#Average salary\n",
        "print(\"Average Salary:\",sum(sal)/len(sal))\n",
        "\n",
        "#Total salary\n",
        "print(\"Total Salary:\",sum(sal))\n",
        "\n",
        "#Employee whose Salary is maximum\n",
        "print(\"Employee Name whose salary is maximum\",nm[sal.index(max(sal))])\n",
        "\n",
        "#Employee whose designation is  Manager\n",
        "print(\"Employee Name whose designation is manager\",end=\" \")\n",
        "for i in range(len(desgn)):\n",
        "  if desgn[i] == \"Manager\" or desgn[i] == \"manager\":\n",
        "    print(nm[i], end=\" \")\n",
        "\n",
        "#Employee whose salary is 95000\n",
        "print(\"Employee Name whose salary is 95000\",nm[sal.index(95000)])\n",
        "\n",
        "#Employee whose salary is minimum\n",
        "print(\"Employee Name whose salary is minimum\",nm[sal.index(min(sal))])\n",
        "\n",
        "#Employee whose designation is  Sr.Manager\n",
        "print(\"Employee Name whose designation is Sr.manager\",end=\" \")\n",
        "for i in range(len(desgn)):\n",
        "  if desgn[i] == \"Sr.Manager\" or desgn[i] == \"sr.manager\":\n",
        "    print(nm[i], end=\" \")\n",
        "\n",
        "f=0\n",
        "#Employee whose salary is 45000\n",
        "for i in range(len(sal)):\n",
        "  if sal[i] == 45000:\n",
        "    print(\"\\nEmployee Name whose salary is 45000:\",nm[i])\n",
        "    f=1\n",
        "\n",
        "if(f==0):\n",
        "  print(\"\\nNo Employee present whose salary is 45000:\",nm[i])\n",
        "\n",
        "\n",
        "\n"
      ]
    },
    {
      "cell_type": "code",
      "execution_count": null,
      "metadata": {
        "id": "BzcqzCBKAjv2"
      },
      "outputs": [],
      "source": []
    }
  ],
  "metadata": {
    "colab": {
      "provenance": []
    },
    "kernelspec": {
      "display_name": "Python 3",
      "name": "python3"
    },
    "language_info": {
      "name": "python"
    }
  },
  "nbformat": 4,
  "nbformat_minor": 0
}
