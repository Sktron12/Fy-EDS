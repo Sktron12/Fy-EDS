{
  "cells": [
    {
      "cell_type": "code",
      "execution_count": null,
      "metadata": {
        "colab": {
          "base_uri": "https://localhost:8080/"
        },
        "id": "zdaA6Hu7_Vg1",
        "outputId": "6fcf5b09-67cd-4a73-d637-5f90b0708f03"
      },
      "outputs": [
        {
          "name": "stdout",
          "output_type": "stream",
          "text": [
            "[['801' '43.05' '27.79' '28.7' '27.79']\n",
            " ['802' '43.47' '28.52' '28.98' '27.89']\n",
            " ['803' '42.24' '28.16' '28.16' '25.63']\n",
            " ['804' '39.24' '26.16' '26.16' '26.16']\n",
            " ['805' '40.9' '26.03' '27.27' '25.65']\n",
            " ['806' '39.47' '26.31' '26.31' '25.21']\n",
            " ['807' '41.68' '25.63' '27.79' '25.46']\n",
            " ['808' '42.19' '27.61' '28.13' '26.21']\n",
            " ['809' '44.75' '28.35' '29.83' '28.21']\n",
            " ['810' '46.95' '28.88' '31.3' '28.53']]\n",
            "[['801' '28.48' '34.18' '30.56' '22.23']\n",
            " ['802' '28.1' '33.72' '30.68' '22.82']\n",
            " ['803' '26.16' '31.39' '28.2' '22.53']\n",
            " ['804' '26.16' '31.39' '28.78' '20.93']\n",
            " ['805' '26.1' '31.32' '28.22' '20.82']\n",
            " ['806' '25.45' '30.54' '27.73' '21.05']\n",
            " ['807' '26.16' '31.39' '28.01' '20.51']\n",
            " ['808' '27.44' '32.93' '28.83' '22.08']\n",
            " ['809' '28.63' '34.35' '31.03' '22.68']\n",
            " ['810' '30.35' '36.42' '31.38' '23.1']]\n"
          ]
        }
      ],
      "source": [
        "import numpy as np\n",
        "arr_1 = np.loadtxt('/content/drive/MyDrive/Colab Notebooks/testmarks1.csv',delimiter=',',dtype=str,skiprows=1)\n",
        "arr_2 = np.loadtxt('/content/drive/MyDrive/Colab Notebooks/testmarks2.csv',delimiter=',',dtype=str,skiprows=1)\n",
        "print(arr_1)\n",
        "print(arr_2)\n"
      ]
    },
    {
      "cell_type": "code",
      "execution_count": null,
      "metadata": {
        "colab": {
          "base_uri": "https://localhost:8080/",
          "height": 582
        },
        "id": "hFrbnHbvzM_v",
        "outputId": "bfbb7680-9b36-40d3-c809-cef02b2dc3c3"
      },
      "outputs": [
        {
          "name": "stdout",
          "output_type": "stream",
          "text": [
            "[['801' '43.05' '27.79' '28.7' '27.79']\n",
            " ['802' '43.47' '28.52' '28.98' '27.89']\n",
            " ['803' '42.24' '28.16' '28.16' '25.63']\n",
            " ['804' '39.24' '26.16' '26.16' '26.16']\n",
            " ['805' '40.9' '26.03' '27.27' '25.65']\n",
            " ['806' '39.47' '26.31' '26.31' '25.21']\n",
            " ['807' '41.68' '25.63' '27.79' '25.46']\n",
            " ['808' '42.19' '27.61' '28.13' '26.21']\n",
            " ['809' '44.75' '28.35' '29.83' '28.21']\n",
            " ['810' '46.95' '28.88' '31.3' '28.53']]\n",
            "[['801' '28.48' '34.18' '30.56' '22.23']\n",
            " ['802' '28.1' '33.72' '30.68' '22.82']\n",
            " ['803' '26.16' '31.39' '28.2' '22.53']\n",
            " ['804' '26.16' '31.39' '28.78' '20.93']\n",
            " ['805' '26.1' '31.32' '28.22' '20.82']\n",
            " ['806' '25.45' '30.54' '27.73' '21.05']\n",
            " ['807' '26.16' '31.39' '28.01' '20.51']\n",
            " ['808' '27.44' '32.93' '28.83' '22.08']\n",
            " ['809' '28.63' '34.35' '31.03' '22.68']\n",
            " ['810' '30.35' '36.42' '31.38' '23.1']]\n"
          ]
        },
        {
          "ename": "ValueError",
          "evalue": "ignored",
          "output_type": "error",
          "traceback": [
            "\u001b[0;31m---------------------------------------------------------------------------\u001b[0m",
            "\u001b[0;31mValueError\u001b[0m                                Traceback (most recent call last)",
            "\u001b[0;32m<ipython-input-2-48ffefbd4cf1>\u001b[0m in \u001b[0;36m<cell line: 11>\u001b[0;34m()\u001b[0m\n\u001b[1;32m     10\u001b[0m \u001b[0mEGR\u001b[0m\u001b[0;34m=\u001b[0m\u001b[0;34m[\u001b[0m\u001b[0;34m]\u001b[0m\u001b[0;34m\u001b[0m\u001b[0;34m\u001b[0m\u001b[0m\n\u001b[1;32m     11\u001b[0m \u001b[0;32mfor\u001b[0m \u001b[0mi\u001b[0m \u001b[0;32min\u001b[0m \u001b[0marr_1\u001b[0m\u001b[0;34m:\u001b[0m\u001b[0;34m\u001b[0m\u001b[0;34m\u001b[0m\u001b[0m\n\u001b[0;32m---> 12\u001b[0;31m   \u001b[0mSIC\u001b[0m\u001b[0;34m.\u001b[0m\u001b[0mappend\u001b[0m\u001b[0;34m(\u001b[0m\u001b[0mint\u001b[0m\u001b[0;34m(\u001b[0m\u001b[0mi\u001b[0m\u001b[0;34m[\u001b[0m\u001b[0;36m1\u001b[0m\u001b[0;34m]\u001b[0m\u001b[0;34m)\u001b[0m\u001b[0;34m)\u001b[0m\u001b[0;34m\u001b[0m\u001b[0;34m\u001b[0m\u001b[0m\n\u001b[0m\u001b[1;32m     13\u001b[0m   \u001b[0mEDS\u001b[0m\u001b[0;34m.\u001b[0m\u001b[0mappend\u001b[0m\u001b[0;34m(\u001b[0m\u001b[0mint\u001b[0m\u001b[0;34m(\u001b[0m\u001b[0mi\u001b[0m\u001b[0;34m[\u001b[0m\u001b[0;36m2\u001b[0m\u001b[0;34m]\u001b[0m\u001b[0;34m)\u001b[0m\u001b[0;34m)\u001b[0m\u001b[0;34m\u001b[0m\u001b[0;34m\u001b[0m\u001b[0m\n\u001b[1;32m     14\u001b[0m   \u001b[0mEEE\u001b[0m\u001b[0;34m.\u001b[0m\u001b[0mappend\u001b[0m\u001b[0;34m(\u001b[0m\u001b[0mint\u001b[0m\u001b[0;34m(\u001b[0m\u001b[0mi\u001b[0m\u001b[0;34m[\u001b[0m\u001b[0;36m3\u001b[0m\u001b[0;34m]\u001b[0m\u001b[0;34m)\u001b[0m\u001b[0;34m)\u001b[0m\u001b[0;34m\u001b[0m\u001b[0;34m\u001b[0m\u001b[0m\n",
            "\u001b[0;31mValueError\u001b[0m: invalid literal for int() with base 10: '43.05'"
          ]
        }
      ],
      "source": [
        "import numpy as np\n",
        "arr_1 = np.loadtxt('/content/drive/MyDrive/Colab Notebooks/testmarks1.csv',delimiter=',',dtype=str,skiprows=1)\n",
        "arr_2 = np.loadtxt('/content/drive/MyDrive/Colab Notebooks/testmarks2.csv',delimiter=',',dtype=str,skiprows=1)\n",
        "print(arr_1)\n",
        "print(arr_2)\n",
        "SIC=[]\n",
        "EDS=[]\n",
        "EEE=[]\n",
        "PHY=[]\n",
        "EGR=[]\n",
        "for i in arr_1:\n",
        "  SIC.append(int(i[1]))\n",
        "  EDS.append(int(i[2]))\n",
        "  EEE.append(int(i[3]))\n",
        "  PHY.append(int(i[4]))\n",
        "  EGR.append(int(i[5]))\n",
        "\n",
        "print(SIC)\n",
        "print(EDS)\n",
        "print(EEE)\n",
        "print(PHY)\n",
        "print(EGR)\n",
        "\n",
        "#CONVERTING LIST TO ARRAY\n",
        "arr_SIC = np.array(SIC)\n",
        "arr_EDS = np.array(EDS)\n",
        "arr_EEE = np.array(EEE)\n",
        "arr_PHY = np.array(PHY)\n",
        "arr_EGR = np.array(EGR)\n",
        "\n",
        "#DISPLAYING ARRAY\n",
        "print(\"Array1: \",arr_SIC)\n",
        "print(\"Array2: \",arr_EDS)\n",
        "print(\"Array3: \",arr_EEE)\n",
        "print(\"Array4: \",arr_PHY)\n",
        "print(\"Array5: \",arr_EGR)\n",
        "\n",
        "arr_SIC.shape\n",
        "\n",
        "\n",
        "\n",
        "\n",
        "\n",
        "\n",
        "\n",
        "\n"
      ]
    },
    {
      "cell_type": "code",
      "execution_count": null,
      "metadata": {
        "colab": {
          "base_uri": "https://localhost:8080/"
        },
        "id": "uMIK-Zi97v5j",
        "outputId": "bae84a33-9d06-4219-eaac-beab6ea75118"
      },
      "outputs": [
        {
          "name": "stdout",
          "output_type": "stream",
          "text": [
            "[147 148 156 169 146 172 136 126 126 147]\n"
          ]
        }
      ],
      "source": [
        "#Arithmetic operation\n",
        "#1.Addition operation\n",
        "resultarray=np.add(arr_SIC,arr_EDS)\n",
        "print(resultarray)\n"
      ]
    },
    {
      "cell_type": "code",
      "execution_count": null,
      "metadata": {
        "colab": {
          "base_uri": "https://localhost:8080/"
        },
        "id": "hKIBJVh28dku",
        "outputId": "be5d4b98-579e-4457-cbb0-4a6883fbda55"
      },
      "outputs": [
        {
          "name": "stdout",
          "output_type": "stream",
          "text": [
            "[  9 -10  -2  -9 -10  16   2 -10 -10 -11]\n"
          ]
        }
      ],
      "source": [
        "#2.Subtraction operation\n",
        "resultarray=np.subtract(arr_SIC,arr_EDS)\n",
        "print(resultarray)"
      ]
    },
    {
      "cell_type": "code",
      "execution_count": null,
      "metadata": {
        "colab": {
          "base_uri": "https://localhost:8080/"
        },
        "id": "Fg-wIDv88jWl",
        "outputId": "7d8c0dbf-57a0-483e-f1a3-16f3b77f2be6"
      },
      "outputs": [
        {
          "name": "stdout",
          "output_type": "stream",
          "text": [
            "[5382 5451 6083 7120 5304 7332 4623 3944 3944 5372]\n"
          ]
        }
      ],
      "source": [
        "#3.Multiplication operation\n",
        "resultarray=np.multiply(arr_SIC,arr_EDS)\n",
        "print(resultarray)"
      ]
    },
    {
      "cell_type": "code",
      "execution_count": null,
      "metadata": {
        "colab": {
          "base_uri": "https://localhost:8080/"
        },
        "id": "nf40Y-Nw8zV0",
        "outputId": "513c8073-0d78-4be4-d7c5-9269f8ad8bc8"
      },
      "outputs": [
        {
          "name": "stdout",
          "output_type": "stream",
          "text": [
            "[1.13043478 0.87341772 0.97468354 0.8988764  0.87179487 1.20512821\n",
            " 1.02985075 0.85294118 0.85294118 0.86075949]\n"
          ]
        }
      ],
      "source": [
        "#4.Divison operation\n",
        "resultarray=np.divide(arr_SIC,arr_EDS)\n",
        "print(resultarray)"
      ]
    },
    {
      "cell_type": "code",
      "execution_count": null,
      "metadata": {
        "colab": {
          "base_uri": "https://localhost:8080/"
        },
        "id": "Z2vFGCFD9BbD",
        "outputId": "511304f0-7667-4f97-b98a-99f72188e108"
      },
      "outputs": [
        {
          "name": "stdout",
          "output_type": "stream",
          "text": [
            "[ 9 69 77 80 68 16  2 58 58 68]\n"
          ]
        }
      ],
      "source": [
        "#5.Mod\n",
        "resultarray=np.mod(arr_SIC,arr_EDS)\n",
        "print(resultarray)"
      ]
    },
    {
      "cell_type": "code",
      "execution_count": null,
      "metadata": {
        "colab": {
          "base_uri": "https://localhost:8080/"
        },
        "id": "NubwB9bd9LlS",
        "outputId": "1733c98e-eea8-44f4-bf38-e36b7fb22620"
      },
      "outputs": [
        {
          "name": "stdout",
          "output_type": "stream",
          "text": [
            "54555\n"
          ]
        }
      ],
      "source": [
        "#6.Dot Product\n",
        "resultarray=np.dot(arr_SIC,arr_EDS)\n",
        "print(resultarray)"
      ]
    },
    {
      "cell_type": "code",
      "execution_count": null,
      "metadata": {
        "colab": {
          "base_uri": "https://localhost:8080/"
        },
        "id": "SEOMMzbv9pAG",
        "outputId": "664b7d9e-bfff-442c-82de-459466de765f"
      },
      "outputs": [
        {
          "name": "stdout",
          "output_type": "stream",
          "text": [
            "[78 69 77 80 68 94 69 58 58 68]\n"
          ]
        }
      ],
      "source": [
        "#7.Transpose\n",
        "resultarray=np.transpose(arr_SIC)\n",
        "print(resultarray)"
      ]
    },
    {
      "attachments": {},
      "cell_type": "markdown",
      "metadata": {
        "id": "aT9zQ8um-s3c"
      },
      "source": [
        "2.Statistical Operations"
      ]
    },
    {
      "cell_type": "code",
      "execution_count": null,
      "metadata": {
        "colab": {
          "base_uri": "https://localhost:8080/"
        },
        "id": "RFGFLm1u-r8x",
        "outputId": "6a9dd7e0-f13c-469c-8e86-b1c168f904af"
      },
      "outputs": [
        {
          "name": "stdout",
          "output_type": "stream",
          "text": [
            "71.9\n"
          ]
        }
      ],
      "source": [
        "#1.mean\n",
        "resultarray=np.mean(arr_SIC)\n",
        "print(resultarray)"
      ]
    },
    {
      "cell_type": "code",
      "execution_count": null,
      "metadata": {
        "colab": {
          "base_uri": "https://localhost:8080/"
        },
        "id": "gXFWfuZEBwPN",
        "outputId": "ea6c9ddf-ae4c-46ee-8cf0-06968bfff37e"
      },
      "outputs": [
        {
          "name": "stdout",
          "output_type": "stream",
          "text": [
            "69.0\n"
          ]
        }
      ],
      "source": [
        "#2.Median\n",
        "resultarray=np.median(arr_SIC)\n",
        "print(resultarray)"
      ]
    },
    {
      "cell_type": "code",
      "execution_count": null,
      "metadata": {
        "id": "XtRg9o5gBwpi"
      },
      "outputs": [],
      "source": [
        "#3.Average\n",
        "resultarray=np.average(arr_SIC)\n",
        "print(resultarray)"
      ]
    },
    {
      "cell_type": "code",
      "execution_count": null,
      "metadata": {
        "colab": {
          "base_uri": "https://localhost:8080/"
        },
        "id": "O1g1mWLhBxFh",
        "outputId": "4c60138b-fd40-4b92-f9f5-b8d2d2245b5f"
      },
      "outputs": [
        {
          "name": "stdout",
          "output_type": "stream",
          "text": [
            "105.09\n"
          ]
        }
      ],
      "source": [
        "#4.VARIANCE\n",
        "resultarray=np.var(arr_SIC)\n",
        "print(resultarray)"
      ]
    },
    {
      "cell_type": "code",
      "execution_count": null,
      "metadata": {
        "colab": {
          "base_uri": "https://localhost:8080/"
        },
        "id": "t696Epo7B6kS",
        "outputId": "767efc19-387c-4369-ab9e-23b57c2862a9"
      },
      "outputs": [
        {
          "name": "stdout",
          "output_type": "stream",
          "text": [
            "10.251341375644458\n"
          ]
        }
      ],
      "source": [
        "#5.STANDARD DEVIATION\n",
        "resultarray=np.std(arr_SIC)\n",
        "print(resultarray)"
      ]
    },
    {
      "cell_type": "code",
      "execution_count": null,
      "metadata": {
        "colab": {
          "base_uri": "https://localhost:8080/"
        },
        "id": "5jMmat7ZB6oD",
        "outputId": "fa02c625-7b48-4007-fca9-4c012d35c50f"
      },
      "outputs": [
        {
          "name": "stdout",
          "output_type": "stream",
          "text": [
            "94\n"
          ]
        }
      ],
      "source": [
        "#6.MAximum value\n",
        "resultarray=np.amax(arr_SIC)\n",
        "print(resultarray)"
      ]
    },
    {
      "cell_type": "code",
      "execution_count": null,
      "metadata": {
        "colab": {
          "base_uri": "https://localhost:8080/"
        },
        "id": "R6OFmKNNCAjA",
        "outputId": "9b03f1ee-5514-4327-8223-1f4b8fe8c6b2"
      },
      "outputs": [
        {
          "name": "stdout",
          "output_type": "stream",
          "text": [
            "58\n"
          ]
        }
      ],
      "source": [
        "#7.MINIMUM VALUE\n",
        "resultarray=np.amin(arr_SIC)\n",
        "print(resultarray)"
      ]
    },
    {
      "attachments": {},
      "cell_type": "markdown",
      "metadata": {
        "id": "qsKkq9mxMdTD"
      },
      "source": [
        "SORTING"
      ]
    },
    {
      "cell_type": "code",
      "execution_count": null,
      "metadata": {
        "colab": {
          "base_uri": "https://localhost:8080/"
        },
        "id": "C_S4I8DjLv5H",
        "outputId": "ca66f755-a3f1-4c3e-c2cc-4762459991b4"
      },
      "outputs": [
        {
          "name": "stdout",
          "output_type": "stream",
          "text": [
            "[['0' '0' '2002-08-12' ... '0' '0' '0']\n",
            " ['1' '1' '2002-08-13' ... '0' '0' '0']\n",
            " ['10' '10' '2002-08-14' ... '0' '0' '0']\n",
            " ...\n",
            " ['997' '997' '2010-12-28' ... '9986220' '1.25' '0']\n",
            " ['998' '998' '2010-12-29' ... '9997992' '1.25' '2']\n",
            " ['999' '999' '2010-12-30' ... '9998480' '5' '2']]\n",
            "[['0' '0' '0' ... '27.78542288' '28.48499298' '28.70024427']\n",
            " ['0' '0' '1' ... '28.09933281' '28.52086876' '28.97827946']\n",
            " ['0' '0' '2' ... '28.16211253' '28.16211253' '822776']\n",
            " ...\n",
            " ['0' '0' '1012876' ... '448.7846543' '450.8099365' '452.5992742']\n",
            " ['0' '0' '1042370' ... '451.8522033' '454.9785767' '456.9645433']\n",
            " ['0' '0' '2010-12-30' ... '453.2285209' '460.1891479' '461.9981679']]\n"
          ]
        }
      ],
      "source": [
        "arr_1 = np.loadtxt('/content/drive/MyDrive/Colab Notebooks/FirstDecade.csv',delimiter=',',dtype=str,skiprows=1)\n",
        "arr_2 = np.loadtxt('/content/drive/MyDrive/Colab Notebooks/SecondDecade.csv',delimiter=',',dtype=str,skiprows=1)\n",
        "\n",
        "array1=np.sort(arr_1,axis=0)#Horizontally Sort\n",
        "print(array1)\n",
        "\n",
        "array1=np.sort(arr_1,axis=1)#Vertically Sort\n",
        "print(array1)\n"
      ]
    },
    {
      "attachments": {},
      "cell_type": "markdown",
      "metadata": {
        "id": "pP9OKV0dNo13"
      },
      "source": [
        "Data stacking"
      ]
    },
    {
      "cell_type": "code",
      "execution_count": null,
      "metadata": {
        "colab": {
          "base_uri": "https://localhost:8080/"
        },
        "id": "9hiJ8ctTNoHX",
        "outputId": "f4d009a8-aa09-4355-b2c4-e3e1c64d767f"
      },
      "outputs": [
        {
          "name": "stdout",
          "output_type": "stream",
          "text": [
            "[[1 2]\n",
            " [3 4]]\n",
            "[[1 2]\n",
            " [3 4]]\n"
          ]
        }
      ],
      "source": [
        "array1=np.array(np.arange(1,5).reshape(2,2))\n",
        "print(array1)\n",
        "array2=np.array(np.arange(11,15).reshape(2,2))\n",
        "print(array1)"
      ]
    },
    {
      "attachments": {},
      "cell_type": "markdown",
      "metadata": {
        "id": "5Nq7uYUpPutI"
      },
      "source": [
        "Horizontal Stacking"
      ]
    },
    {
      "cell_type": "code",
      "execution_count": null,
      "metadata": {
        "colab": {
          "base_uri": "https://localhost:8080/"
        },
        "id": "7-lNYXUfPl83",
        "outputId": "d7c8b985-bdc3-4bd4-f8ff-bc8b1716df59"
      },
      "outputs": [
        {
          "name": "stdout",
          "output_type": "stream",
          "text": [
            "[78 69 77 80 68 94 69 58 58 68 69 79 79 89 78 78 67 68 68 79]\n"
          ]
        }
      ],
      "source": [
        "resultarray=np.hstack((arr_SIC,arr_EDS))\n",
        "print(resultarray)"
      ]
    },
    {
      "attachments": {},
      "cell_type": "markdown",
      "metadata": {
        "id": "JPkKGfikVOtf"
      },
      "source": [
        "Vertical Stacking"
      ]
    },
    {
      "cell_type": "code",
      "execution_count": null,
      "metadata": {
        "colab": {
          "base_uri": "https://localhost:8080/"
        },
        "id": "At_W4WpWVM-f",
        "outputId": "7088f357-742b-4490-9f99-6b36fed8747a"
      },
      "outputs": [
        {
          "name": "stdout",
          "output_type": "stream",
          "text": [
            "[78 69 77 80 68 94 69 58 58 68 69 79 79 89 78 78 67 68 68 79]\n"
          ]
        }
      ],
      "source": [
        "resultarray=np.hstack((arr_SIC,arr_EDS))\n",
        "print(resultarray)"
      ]
    },
    {
      "attachments": {},
      "cell_type": "markdown",
      "metadata": {
        "id": "6oBKptEeXAcv"
      },
      "source": [
        "Append"
      ]
    },
    {
      "cell_type": "code",
      "execution_count": null,
      "metadata": {
        "colab": {
          "base_uri": "https://localhost:8080/"
        },
        "id": "pxnJ-ZnSW9lX",
        "outputId": "61699f4e-3d5c-4c22-ab8a-0ee05cc28303"
      },
      "outputs": [
        {
          "name": "stdout",
          "output_type": "stream",
          "text": [
            "[['801' '43.05' '27.79' '28.7' '27.79']\n",
            " ['802' '43.47' '28.52' '28.98' '27.89']\n",
            " ['803' '42.24' '28.16' '28.16' '25.63']\n",
            " ['804' '39.24' '26.16' '26.16' '26.16']\n",
            " ['805' '40.9' '26.03' '27.27' '25.65']\n",
            " ['806' '39.47' '26.31' '26.31' '25.21']\n",
            " ['807' '41.68' '25.63' '27.79' '25.46']\n",
            " ['808' '42.19' '27.61' '28.13' '26.21']\n",
            " ['809' '44.75' '28.35' '29.83' '28.21']\n",
            " ['810' '46.95' '28.88' '31.3' '28.53']]\n",
            "[['801' '28.48' '34.18' '30.56' '22.23']\n",
            " ['802' '28.1' '33.72' '30.68' '22.82']\n",
            " ['803' '26.16' '31.39' '28.2' '22.53']\n",
            " ['804' '26.16' '31.39' '28.78' '20.93']\n",
            " ['805' '26.1' '31.32' '28.22' '20.82']\n",
            " ['806' '25.45' '30.54' '27.73' '21.05']\n",
            " ['807' '26.16' '31.39' '28.01' '20.51']\n",
            " ['808' '27.44' '32.93' '28.83' '22.08']\n",
            " ['809' '28.63' '34.35' '31.03' '22.68']\n",
            " ['810' '30.35' '36.42' '31.38' '23.1']]\n"
          ]
        }
      ],
      "source": [
        "array1=np.arange(1,10).reshape(3,3)\n",
        "print(arr_1)\n",
        "array2=np.arange(1,10).reshape(3,3)\n",
        "print(arr_2)"
      ]
    }
  ],
  "metadata": {
    "colab": {
      "provenance": []
    },
    "kernelspec": {
      "display_name": "Python 3",
      "name": "python3"
    },
    "language_info": {
      "name": "python"
    }
  },
  "nbformat": 4,
  "nbformat_minor": 0
}
