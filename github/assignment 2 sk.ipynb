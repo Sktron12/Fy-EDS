{
  "cells": [
    {
      "cell_type": "code",
      "execution_count": null,
      "metadata": {
        "colab": {
          "base_uri": "https://localhost:8080/",
          "height": 135
        },
        "id": "gp3ZoJRAezn-",
        "outputId": "a08c9a94-20db-43d3-a263-f9275371dd42"
      },
      "outputs": [
        {
          "ename": "SyntaxError",
          "evalue": "ignored",
          "output_type": "error",
          "traceback": [
            "\u001b[0;36m  File \u001b[0;32m\"<ipython-input-1-74488c6bfff1>\"\u001b[0;36m, line \u001b[0;32m3\u001b[0m\n\u001b[0;31m    d3.sort(key = lambda x: int(x[4])),reverse=True)\u001b[0m\n\u001b[0m    ^\u001b[0m\n\u001b[0;31mSyntaxError\u001b[0m\u001b[0;31m:\u001b[0m cannot assign to function call\n"
          ]
        }
      ],
      "source": [
        "import csv\n",
        "def top_5_emp(d3):\n",
        "  d3.sort(key = lambda x: int(x[4])),reverse=True)\n",
        "  print(\"Sorted Data:\",d3)\n",
        "\n",
        "  print(\"\\n\\nTop1 Employee\",d3[0][1])\n",
        "  print(\"Top2 Employee\",d3[1][1])\n",
        "  print(\"Top1 Employee\",d3[2][1])\n",
        "  print(\"Top2 Employee\",d3[3][1])\n",
        "  print(\"Top2 Employee\",d3[4][1])\n",
        "\n",
        "  f1 = open(\"\",\"r\")\n",
        "  f2 = open(\"\",\"r\")\n",
        "  f3 = open(\"\",\"w\")\n",
        "\n",
        "  d1=list(csv.reader(f1,delimiter=','))\n",
        "  d2=list(csv.reader(f2,delimiter=','))\n",
        "\n",
        "\n",
        "  print(\"\\n\\nFile1 Contents:\",d1)\n",
        "  print(\"\\n\\nFile2 Contents:\",d2)\n",
        "  d3 = []\n",
        "  for i in range(len(d1)):\n",
        "    d3.append(d1[i]+d2[i])\n",
        "\n",
        "print(d3)\n",
        "cw = csv.writer(f3)\n",
        "cw.writerrows(d3)\n",
        "\n",
        "top_5_emp(d3)\n",
        "\n",
        "f1.close()\n",
        "f2.close()\n",
        "f3.close()\n"
      ]
    }
  ],
  "metadata": {
    "colab": {
      "provenance": []
    },
    "kernelspec": {
      "display_name": "Python 3",
      "name": "python3"
    },
    "language_info": {
      "name": "python"
    }
  },
  "nbformat": 4,
  "nbformat_minor": 0
}
