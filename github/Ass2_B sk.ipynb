{
  "cells": [
    {
      "cell_type": "code",
      "execution_count": null,
      "metadata": {
        "colab": {
          "base_uri": "https://localhost:8080/"
        },
        "id": "et4FtlYyod8e",
        "outputId": "bf853a7c-4f44-484a-caca-cf334c723f9e"
      },
      "outputs": [
        {
          "name": "stdout",
          "output_type": "stream",
          "text": [
            "<class 'tuple'>\n"
          ]
        }
      ],
      "source": [
        "Product_details=[]\n",
        "Supplier_details=dict()\n",
        "Customer_details=[]#tupel()\n",
        "gender={}\n",
        "\n",
        "fp1=open(\"/content/drive/MyDrive/Colab Notebooks/Sales.csv\",\"r\")\n",
        "data=fp1.readline()\n",
        "\n",
        "while(True):\n",
        "  data=fp1.readline()\n",
        "  if not data:\n",
        "    break;\n",
        "  else:\n",
        "    #print(data)\n",
        "    data=data.replace(\"\\n\",\"\")\n",
        "    temp=data.split(\",\")\n",
        "    Product_details.append(temp[1])\n",
        "    Customer_details.append(temp[3])\n",
        "    Supplier_details.update({temp[0]:temp[2]})\n",
        "    gender.update({temp[3]:temp[4]})\n",
        "\n",
        "\n",
        "\n",
        "fp1.close()\n",
        "#print(type(Customer_details))\n",
        "Customer_details=tuple(Customer_details)\n",
        "print(type(Customer_details))\n"
      ]
    },
    {
      "cell_type": "code",
      "execution_count": null,
      "metadata": {
        "colab": {
          "base_uri": "https://localhost:8080/"
        },
        "id": "P2lnre9E4UDP",
        "outputId": "167a2eb1-0cf3-465c-8392-aa390162c52c"
      },
      "outputs": [
        {
          "name": "stdout",
          "output_type": "stream",
          "text": [
            "\n",
            "Product_details\n",
            " ['Lenovo Laptop', 'Samsung M31', 'Realmi 10pro', 'Oppo F21', 'Lenovo Laptop', 'Samsung M31', '\"LG TV 32\"\"\"', 'Oppo F21', 'Lenovo Laptop', 'Samsung M31', '\"LG TV 32\"\"\"', 'Lenovo Laptop', 'Samsung M31', 'Realmi 10pro', 'Lenovo Laptop', 'Oppo F21', '\"LG TV 32\"\"\"', 'Lenovo Laptop', 'Samsung M31', '\"LG TV 32\"\"\"']\n",
            "\n",
            "Customer_details\n",
            " ('Kaustubh Mahajan', 'Siddhi Kiwale', 'Sanket Kandalkar', 'Yash Mali', 'Yash Bagul', 'Siddhi Kiwale', 'Sanket Kandalkar', 'Kaustubh Mahajan', 'Yash Mali', 'Siddhi Kiwale', 'Sanket Kandalkar', 'Kaustubh Mahajan', 'Yash Mali', 'Siddhi Kiwale', 'Tanuja Mali', 'Kaustubh Mahajan', 'Sanket Kandalkar', 'Siddhi Kiwale', 'Kaustubh Mahajan', 'Yash Mali')\n",
            "\n",
            "Supplier_details\n",
            " {'P00001': 'Raka Ele.', 'P00002': 'Vijay Sales', 'P00003': 'Gada Ele.', 'P00004': 'Surya Ele.', 'P00005': 'Raka Ele.', 'P00006': 'Gada Ele.', 'P00007': 'Vijay Sales', 'P00008': 'Surya Ele.', 'P00009': 'Raka Ele.', 'P00010': 'Gada Ele.', 'P00011': 'Surya Ele.', 'P00012': 'Raka Ele.', 'P00013': 'Surya Ele.', 'P00014': 'Raka Ele.', 'P00015': 'Gada Ele.', 'P00016': 'Vijay Sales', 'P00017': 'Deshmukh sales', 'P00018': 'Raka Ele.', 'P00019': 'Deshmukh sales', 'P00020': 'Gada Ele.'}\n",
            "\n",
            "Gender_details\n",
            " {'Kaustubh Mahajan': 'Male', 'Siddhi Kiwale': 'Female', 'Sanket Kandalkar': 'Male', 'Yash Mali': 'Male', 'Yash Bagul': 'Male', 'Tanuja Mali': 'Female'}"
          ]
        }
      ],
      "source": [
        "print(\"\\nProduct_details\\n\",Product_details,end=\"\")\n",
        "print(\"\\n\\nCustomer_details\\n\",Customer_details,end=\"\")\n",
        "print(\"\\n\\nSupplier_details\\n\",Supplier_details,end=\"\")\n",
        "print(\"\\n\\nGender_details\\n\",gender,end=\"\")"
      ]
    },
    {
      "attachments": {},
      "cell_type": "markdown",
      "metadata": {
        "id": "1TntlCG1YzSY"
      },
      "source": [
        "**3.Find the most popular product for sales**"
      ]
    },
    {
      "cell_type": "code",
      "execution_count": null,
      "metadata": {
        "colab": {
          "base_uri": "https://localhost:8080/"
        },
        "id": "yD7i7PC46hge",
        "outputId": "d21a3b53-4fe3-4bc0-fb15-72b2229ef8a1"
      },
      "outputs": [
        {
          "name": "stdout",
          "output_type": "stream",
          "text": [
            "{'Lenovo Laptop': 6, 'Samsung M31': 5, 'Realmi 10pro': 2, 'Oppo F21': 3, '\"LG TV 32\"\"\"': 4}\n",
            "{'Lenovo Laptop': 6, 'Samsung M31': 5, '\"LG TV 32\"\"\"': 4, 'Oppo F21': 3, 'Realmi 10pro': 2}\n",
            "The most popular product for sales Lenovo Laptop sold 6 times\n"
          ]
        }
      ],
      "source": [
        "\n",
        "\n",
        "frequency = {}#{Lenovo Laptop:3}\n",
        "#iterating over list\n",
        "for item in  Product_details:\n",
        "  #checking the element in dictionary\n",
        "  if item in frequency:\n",
        "    #increment the counter\n",
        "    frequency[item] += 1\n",
        "  else:\n",
        "    #initialising the count\n",
        "    frequency[item] = 1\n",
        "#printing the frequency\n",
        "print(frequency)\n",
        "marklist = sorted(frequency.items(),key=lambda x:x[1],reverse= True)\n",
        "sortdict=dict(marklist)\n",
        "print(sortdict)\n",
        "print(\"The most popular product for sales\",list(sortdict.keys())[0],\"sold\",list(sortdict.values())[0],\"times\")\n"
      ]
    },
    {
      "attachments": {},
      "cell_type": "markdown",
      "metadata": {
        "id": "7k2n_mNHUtGz"
      },
      "source": [
        "**OR**"
      ]
    },
    {
      "cell_type": "code",
      "execution_count": null,
      "metadata": {
        "colab": {
          "base_uri": "https://localhost:8080/"
        },
        "id": "eQSZO3kFQ-zQ",
        "outputId": "e1dda8f0-7e4a-419f-f190-8eca2e9e6b30"
      },
      "outputs": [
        {
          "name": "stdout",
          "output_type": "stream",
          "text": [
            "The most popular product for sales Lenovo Laptop sold 6 times\n"
          ]
        }
      ],
      "source": [
        "from collections import Counter\n",
        "counter = dict(Counter(Product_details))\n",
        "sorted_counter = sorted(counter.items(),key=lambda x:x[1],reverse=True)\n",
        "sorted_counter=dict(sorted_counter)\n",
        "print(\"The most popular product for sales\",list(sorted_counter.keys())[0],\"sold\",list(sorted_counter.values())[0],\"times\")"
      ]
    },
    {
      "attachments": {},
      "cell_type": "markdown",
      "metadata": {
        "id": "ZV6rs14kUxYY"
      },
      "source": [
        "**4.Find the customer who buys most of the products**"
      ]
    },
    {
      "cell_type": "code",
      "execution_count": null,
      "metadata": {
        "colab": {
          "base_uri": "https://localhost:8080/"
        },
        "id": "cxGTrSSCPlwn",
        "outputId": "1e198b9f-3f44-47ff-c0f8-60748d1be4dd"
      },
      "outputs": [
        {
          "name": "stdout",
          "output_type": "stream",
          "text": [
            "Frequency is as below:\n",
            " {'Kaustubh Mahajan': 5, 'Siddhi Kiwale': 5, 'Sanket Kandalkar': 4, 'Yash Mali': 4, 'Yash Bagul': 1, 'Tanuja Mali': 1}\n",
            "\n",
            "Sorted dict is as below:\n",
            " {'Kaustubh Mahajan': 5, 'Siddhi Kiwale': 5, 'Sanket Kandalkar': 4, 'Yash Mali': 4, 'Yash Bagul': 1, 'Tanuja Mali': 1}\n",
            "\n",
            "\n",
            "The customer who buys most of the products Kaustubh Mahajan buy 5 Items\n"
          ]
        }
      ],
      "source": [
        "\n",
        "frequency = {}\n",
        "#iterating over the list\n",
        "for item in Customer_details:\n",
        "  #checking the element in dictionary\n",
        "  if item in frequency:\n",
        "    #incrementing the counter\n",
        "    frequency[item] += 1\n",
        "  else:\n",
        "    #initialising the count\n",
        "    frequency[item] = 1\n",
        "#printing the frequency\n",
        "print(\"Frequency is as below:\\n\",frequency)\n",
        "marklist = sorted(frequency.items(),key=lambda x:x[1],reverse=True)\n",
        "sortdict = dict(marklist)\n",
        "print(\"\\nSorted dict is as below:\\n\",sortdict)\n",
        "print(\"\\n\\nThe customer who buys most of the products\",list(sortdict.keys())[0],\"buy\",list(sortdict.values())[0],\"Items\")"
      ]
    },
    {
      "attachments": {},
      "cell_type": "markdown",
      "metadata": {
        "id": "eFEMh8k_Weak"
      },
      "source": [
        "**OR**\n"
      ]
    },
    {
      "cell_type": "code",
      "execution_count": null,
      "metadata": {
        "colab": {
          "base_uri": "https://localhost:8080/"
        },
        "id": "QgIQH65JWdtC",
        "outputId": "7a4afe0c-bda0-4322-eb99-0d606dc9e2ad"
      },
      "outputs": [
        {
          "name": "stdout",
          "output_type": "stream",
          "text": [
            "The customer who buys most of the products Kaustubh Mahajan buy 5 Items\n"
          ]
        }
      ],
      "source": [
        "from collections import Counter\n",
        "counter = dict(Counter(Customer_details))\n",
        "sorted_counter = sorted(counter.items(),key=lambda x:x[1],reverse=True)\n",
        "sorted_counter=dict(sorted_counter)\n",
        "print(\"The customer who buys most of the products\",list(sorted_counter.keys())[0],\"buy\",list(sorted_counter.values())[0],\"Items\")"
      ]
    },
    {
      "attachments": {},
      "cell_type": "markdown",
      "metadata": {
        "id": "7i1MwtpXXcec"
      },
      "source": [
        "'**5.Find the number of customers who are 'Female'**"
      ]
    },
    {
      "cell_type": "code",
      "execution_count": null,
      "metadata": {
        "colab": {
          "base_uri": "https://localhost:8080/"
        },
        "id": "9TZAAb41XSlh",
        "outputId": "b45d52bc-25c0-43ed-fa3a-68c80ec75eab"
      },
      "outputs": [
        {
          "name": "stdout",
          "output_type": "stream",
          "text": [
            "['Kaustubh Mahajan', 'Siddhi Kiwale', 'Sanket Kandalkar', 'Yash Mali', 'Yash Bagul', 'Tanuja Mali']\n",
            "Total no of Male 4\n",
            "Total no of Female 2\n"
          ]
        }
      ],
      "source": [
        "#Identify the unique customer\n",
        "from collections import Counter\n",
        "counter = dict(Counter(Customer_details))\n",
        "names=list(counter.keys())\n",
        "print(names)\n",
        "male=0\n",
        "female=0\n",
        "\n",
        "for name in names:\n",
        "  if gender[name]==\"Male\":\n",
        "    male=male+1\n",
        "  if gender[name]==\"Female\":\n",
        "    female+=1\n",
        "print(\"Total no of Male\",male)\n",
        "print(\"Total no of Female\",female)"
      ]
    }
  ],
  "metadata": {
    "colab": {
      "provenance": []
    },
    "kernelspec": {
      "display_name": "Python 3",
      "name": "python3"
    },
    "language_info": {
      "name": "python"
    }
  },
  "nbformat": 4,
  "nbformat_minor": 0
}
